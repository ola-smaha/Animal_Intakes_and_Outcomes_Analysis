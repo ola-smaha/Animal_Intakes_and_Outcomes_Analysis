{
 "cells": [
  {
   "cell_type": "code",
   "execution_count": 2,
   "metadata": {},
   "outputs": [],
   "source": [
    "from datetime import datetime\n",
    "from transformation_handler import *\n",
    "import pandas as pd\n",
    "import numpy as np\n",
    "from lookups import *"
   ]
  },
  {
   "cell_type": "code",
   "execution_count": null,
   "metadata": {},
   "outputs": [],
   "source": [
    "tup = fetch_data(DataSources.SHELTER_NORFOLK, limit=1000000)"
   ]
  },
  {
   "cell_type": "code",
   "execution_count": 4,
   "metadata": {},
   "outputs": [],
   "source": [
    "df = tup[1]"
   ]
  },
  {
   "cell_type": "code",
   "execution_count": 15,
   "metadata": {},
   "outputs": [],
   "source": [
    "import warnings"
   ]
  },
  {
   "cell_type": "code",
   "execution_count": 16,
   "metadata": {},
   "outputs": [],
   "source": [
    "norfolkk = df.copy()\n",
    "norfolkk['years_old'] = pd.to_numeric(norfolkk['years_old'])\n",
    "norfolkk['months_old'] = pd.to_numeric(norfolkk['months_old'])\n",
    "norfolkk['intake_date'] =  pd.to_datetime(norfolkk['intake_date'])\n",
    "norfolkk['outcome_date'] =  pd.to_datetime(norfolkk['outcome_date'])\n",
    "age_in_days = np.where(\n",
    "    (~norfolkk['years_old'].isna()) | (~norfolkk['months_old'].isna()),\n",
    "    (norfolkk['years_old'].fillna(0) * 12 + norfolkk['months_old'].fillna(0)) * 30,\n",
    "    np.nan\n",
    ")\n",
    "# The following line is resolving the warning message from the line after it\n",
    "warnings.filterwarnings(\"ignore\", category=RuntimeWarning, module=\"pandas.core.arrays.timedeltas\")\n",
    "norfolkk['date_of_birth'] = norfolkk['intake_date'] - pd.to_timedelta(age_in_days, unit='D')\n",
    "norfolkk.drop(['years_old','months_old'],axis=1, inplace=True)\n",
    "norfolkk['date_of_birth'] =  pd.to_datetime(norfolkk['date_of_birth'])\n",
    "norfolkk.rename(columns={'animal_type':'type','primary_breed': 'breed', 'primary_color':'color'},inplace=True)\n",
    "norfolkk.drop_duplicates(inplace=True)\n",
    "norfolkk['type'] = np.where(~norfolkk['type'].isin(['Cat', 'Dog']), 'Other', norfolkk['type'])\n",
    "data_columns = ['breed', 'color']\n",
    "norfolkk[data_columns] = norfolkk[data_columns].apply(lambda x: x.str.title())\n",
    "norfolkk['color'] = norfolkk['color'].replace({'Bl |Blk ': 'Black ', 'Brn |Br ' : 'Brown ', 'Org':'Orange', 'Sl ':'Silver '},regex=True)\n",
    "norfolkk['sex'].replace({'NULL': 'Unknown', 'Intact Male': 'Male', 'Intact Female': 'Female', 'Neutered Male': 'Neutered', 'Spayed Female': 'Spayed'}, inplace=True)\n",
    "norfolkk.reset_index(drop=True, inplace=True)\n",
    "norfolkk.intake_type.replace({'Owner Surrendered':'Owner Surrender','Confiscated':'Confiscate'},inplace=True)\n",
    "norfolkk['outcome_type'] = norfolkk['outcome_type'].fillna('Pending')\n",
    "norfolkk.outcome_type.replace({'Euthanized':'Euthanize','Disposal of Deceased Pet':'Disposal','Unassisted Death':'Died'},inplace=True)\n",
    "norfolkk['animal_id'] = norfolkk['animal_id'].apply(lambda x: f'NOR-{x}')\n",
    "norfolkk['region'] = 'Norfolkk'"
   ]
  },
  {
   "cell_type": "code",
   "execution_count": 10,
   "metadata": {},
   "outputs": [
    {
     "name": "stdout",
     "output_type": "stream",
     "text": [
      "<class 'pandas.core.frame.DataFrame'>\n",
      "RangeIndex: 27872 entries, 0 to 27871\n",
      "Data columns (total 11 columns):\n",
      " #   Column         Non-Null Count  Dtype         \n",
      "---  ------         --------------  -----         \n",
      " 0   animal_id      27872 non-null  object        \n",
      " 1   type           27872 non-null  object        \n",
      " 2   breed          27872 non-null  object        \n",
      " 3   color          27872 non-null  object        \n",
      " 4   sex            27872 non-null  object        \n",
      " 5   intake_date    27872 non-null  datetime64[ns]\n",
      " 6   outcome_date   27872 non-null  datetime64[ns]\n",
      " 7   intake_type    27872 non-null  object        \n",
      " 8   outcome_type   27872 non-null  object        \n",
      " 9   date_of_birth  25053 non-null  datetime64[ns]\n",
      " 10  region         27872 non-null  object        \n",
      "dtypes: datetime64[ns](3), object(8)\n",
      "memory usage: 2.3+ MB\n"
     ]
    }
   ],
   "source": [
    "norfolkk.info()"
   ]
  },
  {
   "cell_type": "code",
   "execution_count": 12,
   "metadata": {},
   "outputs": [
    {
     "data": {
      "text/html": [
       "<div>\n",
       "<style scoped>\n",
       "    .dataframe tbody tr th:only-of-type {\n",
       "        vertical-align: middle;\n",
       "    }\n",
       "\n",
       "    .dataframe tbody tr th {\n",
       "        vertical-align: top;\n",
       "    }\n",
       "\n",
       "    .dataframe thead th {\n",
       "        text-align: right;\n",
       "    }\n",
       "</style>\n",
       "<table border=\"1\" class=\"dataframe\">\n",
       "  <thead>\n",
       "    <tr style=\"text-align: right;\">\n",
       "      <th></th>\n",
       "      <th>animal_id</th>\n",
       "      <th>type</th>\n",
       "      <th>breed</th>\n",
       "      <th>color</th>\n",
       "      <th>sex</th>\n",
       "      <th>intake_date</th>\n",
       "      <th>outcome_date</th>\n",
       "      <th>intake_type</th>\n",
       "      <th>outcome_type</th>\n",
       "      <th>date_of_birth</th>\n",
       "      <th>region</th>\n",
       "    </tr>\n",
       "  </thead>\n",
       "  <tbody>\n",
       "    <tr>\n",
       "      <th>27867</th>\n",
       "      <td>NOR-A070756</td>\n",
       "      <td>Cat</td>\n",
       "      <td>Domestic Sh</td>\n",
       "      <td>Buff</td>\n",
       "      <td>Male</td>\n",
       "      <td>2023-10-05</td>\n",
       "      <td>2023-10-05</td>\n",
       "      <td>Stray</td>\n",
       "      <td>Foster</td>\n",
       "      <td>2023-09-15 12:00:00</td>\n",
       "      <td>Norfolkk</td>\n",
       "    </tr>\n",
       "    <tr>\n",
       "      <th>27868</th>\n",
       "      <td>NOR-A070756</td>\n",
       "      <td>Cat</td>\n",
       "      <td>Domestic Sh</td>\n",
       "      <td>Buff</td>\n",
       "      <td>Male</td>\n",
       "      <td>2023-10-07</td>\n",
       "      <td>2023-10-07</td>\n",
       "      <td>Foster</td>\n",
       "      <td>Euthanize</td>\n",
       "      <td>2023-09-17 12:00:00</td>\n",
       "      <td>Norfolkk</td>\n",
       "    </tr>\n",
       "    <tr>\n",
       "      <th>27869</th>\n",
       "      <td>NOR-A070759</td>\n",
       "      <td>Cat</td>\n",
       "      <td>Domestic Sh</td>\n",
       "      <td>Brown Tabby</td>\n",
       "      <td>Female</td>\n",
       "      <td>2023-10-05</td>\n",
       "      <td>2023-10-05</td>\n",
       "      <td>Stray</td>\n",
       "      <td>Euthanize</td>\n",
       "      <td>NaT</td>\n",
       "      <td>Norfolkk</td>\n",
       "    </tr>\n",
       "    <tr>\n",
       "      <th>27870</th>\n",
       "      <td>NOR-A070780</td>\n",
       "      <td>Dog</td>\n",
       "      <td>Labrador Retr</td>\n",
       "      <td>Black</td>\n",
       "      <td>Male</td>\n",
       "      <td>2023-10-07</td>\n",
       "      <td>2023-10-10</td>\n",
       "      <td>Owner Surrender</td>\n",
       "      <td>Foster</td>\n",
       "      <td>2023-03-11 00:00:00</td>\n",
       "      <td>Norfolkk</td>\n",
       "    </tr>\n",
       "    <tr>\n",
       "      <th>27871</th>\n",
       "      <td>NOR-A070810</td>\n",
       "      <td>Other</td>\n",
       "      <td>Raccoon</td>\n",
       "      <td>Black</td>\n",
       "      <td>Unknown</td>\n",
       "      <td>2023-10-10</td>\n",
       "      <td>2023-10-10</td>\n",
       "      <td>Stray</td>\n",
       "      <td>Euthanize</td>\n",
       "      <td>2022-10-15 00:00:00</td>\n",
       "      <td>Norfolkk</td>\n",
       "    </tr>\n",
       "  </tbody>\n",
       "</table>\n",
       "</div>"
      ],
      "text/plain": [
       "         animal_id   type          breed        color      sex intake_date  \\\n",
       "27867  NOR-A070756    Cat    Domestic Sh         Buff     Male  2023-10-05   \n",
       "27868  NOR-A070756    Cat    Domestic Sh         Buff     Male  2023-10-07   \n",
       "27869  NOR-A070759    Cat    Domestic Sh  Brown Tabby   Female  2023-10-05   \n",
       "27870  NOR-A070780    Dog  Labrador Retr        Black     Male  2023-10-07   \n",
       "27871  NOR-A070810  Other        Raccoon        Black  Unknown  2023-10-10   \n",
       "\n",
       "      outcome_date      intake_type outcome_type       date_of_birth    region  \n",
       "27867   2023-10-05            Stray       Foster 2023-09-15 12:00:00  Norfolkk  \n",
       "27868   2023-10-07           Foster    Euthanize 2023-09-17 12:00:00  Norfolkk  \n",
       "27869   2023-10-05            Stray    Euthanize                 NaT  Norfolkk  \n",
       "27870   2023-10-10  Owner Surrender       Foster 2023-03-11 00:00:00  Norfolkk  \n",
       "27871   2023-10-10            Stray    Euthanize 2022-10-15 00:00:00  Norfolkk  "
      ]
     },
     "execution_count": 12,
     "metadata": {},
     "output_type": "execute_result"
    }
   ],
   "source": [
    "norfolkk.tail()"
   ]
  },
  {
   "cell_type": "code",
   "execution_count": 13,
   "metadata": {},
   "outputs": [
    {
     "data": {
      "text/html": [
       "<div>\n",
       "<style scoped>\n",
       "    .dataframe tbody tr th:only-of-type {\n",
       "        vertical-align: middle;\n",
       "    }\n",
       "\n",
       "    .dataframe tbody tr th {\n",
       "        vertical-align: top;\n",
       "    }\n",
       "\n",
       "    .dataframe thead th {\n",
       "        text-align: right;\n",
       "    }\n",
       "</style>\n",
       "<table border=\"1\" class=\"dataframe\">\n",
       "  <thead>\n",
       "    <tr style=\"text-align: right;\">\n",
       "      <th></th>\n",
       "      <th>animal_id</th>\n",
       "      <th>animal_type</th>\n",
       "      <th>primary_breed</th>\n",
       "      <th>primary_color</th>\n",
       "      <th>sex</th>\n",
       "      <th>years_old</th>\n",
       "      <th>months_old</th>\n",
       "      <th>intake_date</th>\n",
       "      <th>outcome_date</th>\n",
       "      <th>intake_type</th>\n",
       "      <th>outcome_type</th>\n",
       "    </tr>\n",
       "  </thead>\n",
       "  <tbody>\n",
       "    <tr>\n",
       "      <th>27902</th>\n",
       "      <td>A070756</td>\n",
       "      <td>Cat</td>\n",
       "      <td>DOMESTIC SH</td>\n",
       "      <td>BUFF</td>\n",
       "      <td>Male</td>\n",
       "      <td>NaN</td>\n",
       "      <td>0.65</td>\n",
       "      <td>2023-10-05T00:00:00.000</td>\n",
       "      <td>2023-10-05T00:00:00.000</td>\n",
       "      <td>Stray</td>\n",
       "      <td>Foster</td>\n",
       "    </tr>\n",
       "    <tr>\n",
       "      <th>27903</th>\n",
       "      <td>A070756</td>\n",
       "      <td>Cat</td>\n",
       "      <td>DOMESTIC SH</td>\n",
       "      <td>BUFF</td>\n",
       "      <td>Male</td>\n",
       "      <td>NaN</td>\n",
       "      <td>0.65</td>\n",
       "      <td>2023-10-07T00:00:00.000</td>\n",
       "      <td>2023-10-07T00:00:00.000</td>\n",
       "      <td>Foster</td>\n",
       "      <td>Euthanized</td>\n",
       "    </tr>\n",
       "    <tr>\n",
       "      <th>27904</th>\n",
       "      <td>A070759</td>\n",
       "      <td>Cat</td>\n",
       "      <td>DOMESTIC SH</td>\n",
       "      <td>BRN TABBY</td>\n",
       "      <td>Female</td>\n",
       "      <td>NaN</td>\n",
       "      <td>NaN</td>\n",
       "      <td>2023-10-05T00:00:00.000</td>\n",
       "      <td>2023-10-05T00:00:00.000</td>\n",
       "      <td>Stray</td>\n",
       "      <td>Euthanized</td>\n",
       "    </tr>\n",
       "    <tr>\n",
       "      <th>27905</th>\n",
       "      <td>A070780</td>\n",
       "      <td>Dog</td>\n",
       "      <td>LABRADOR RETR</td>\n",
       "      <td>BLACK</td>\n",
       "      <td>Male</td>\n",
       "      <td>NaN</td>\n",
       "      <td>7</td>\n",
       "      <td>2023-10-07T00:00:00.000</td>\n",
       "      <td>2023-10-10T00:00:00.000</td>\n",
       "      <td>Owner Surrendered</td>\n",
       "      <td>Foster</td>\n",
       "    </tr>\n",
       "    <tr>\n",
       "      <th>27906</th>\n",
       "      <td>A070810</td>\n",
       "      <td>Other</td>\n",
       "      <td>RACCOON</td>\n",
       "      <td>BLACK</td>\n",
       "      <td>Unknown</td>\n",
       "      <td>1</td>\n",
       "      <td>NaN</td>\n",
       "      <td>2023-10-10T00:00:00.000</td>\n",
       "      <td>2023-10-10T00:00:00.000</td>\n",
       "      <td>Stray</td>\n",
       "      <td>Euthanized</td>\n",
       "    </tr>\n",
       "  </tbody>\n",
       "</table>\n",
       "</div>"
      ],
      "text/plain": [
       "      animal_id animal_type  primary_breed primary_color      sex years_old  \\\n",
       "27902   A070756         Cat    DOMESTIC SH          BUFF     Male       NaN   \n",
       "27903   A070756         Cat    DOMESTIC SH          BUFF     Male       NaN   \n",
       "27904   A070759         Cat    DOMESTIC SH     BRN TABBY   Female       NaN   \n",
       "27905   A070780         Dog  LABRADOR RETR         BLACK     Male       NaN   \n",
       "27906   A070810       Other        RACCOON         BLACK  Unknown         1   \n",
       "\n",
       "      months_old              intake_date             outcome_date  \\\n",
       "27902       0.65  2023-10-05T00:00:00.000  2023-10-05T00:00:00.000   \n",
       "27903       0.65  2023-10-07T00:00:00.000  2023-10-07T00:00:00.000   \n",
       "27904        NaN  2023-10-05T00:00:00.000  2023-10-05T00:00:00.000   \n",
       "27905          7  2023-10-07T00:00:00.000  2023-10-10T00:00:00.000   \n",
       "27906        NaN  2023-10-10T00:00:00.000  2023-10-10T00:00:00.000   \n",
       "\n",
       "             intake_type outcome_type  \n",
       "27902              Stray       Foster  \n",
       "27903             Foster   Euthanized  \n",
       "27904              Stray   Euthanized  \n",
       "27905  Owner Surrendered       Foster  \n",
       "27906              Stray   Euthanized  "
      ]
     },
     "execution_count": 13,
     "metadata": {},
     "output_type": "execute_result"
    }
   ],
   "source": [
    "df.tail()"
   ]
  },
  {
   "cell_type": "code",
   "execution_count": 160,
   "metadata": {},
   "outputs": [
    {
     "data": {
      "text/plain": [
       "Cat      14021\n",
       "Dog      12128\n",
       "Other     1728\n",
       "Name: type, dtype: int64"
      ]
     },
     "execution_count": 160,
     "metadata": {},
     "output_type": "execute_result"
    }
   ],
   "source": [
    "norfolkk.type.value_counts()"
   ]
  },
  {
   "cell_type": "code",
   "execution_count": 165,
   "metadata": {},
   "outputs": [
    {
     "data": {
      "text/plain": [
       "Domestic Sh      12184\n",
       "Pit Bull          4069\n",
       "Domestic Mh        997\n",
       "Labrador Retr      898\n",
       "Germ Shepherd      634\n",
       "                 ...  \n",
       "Havana Brown         1\n",
       "Owl                  1\n",
       "Newfoundland         1\n",
       "Turkish Van          1\n",
       "Californian          1\n",
       "Name: breed, Length: 238, dtype: int64"
      ]
     },
     "execution_count": 165,
     "metadata": {},
     "output_type": "execute_result"
    }
   ],
   "source": [
    "norfolkk.breed.value_counts()"
   ]
  },
  {
   "cell_type": "code",
   "execution_count": 173,
   "metadata": {},
   "outputs": [
    {
     "data": {
      "text/plain": [
       "Black             7856\n",
       "Brown Tabby       2802\n",
       "White             2524\n",
       "Gray              2395\n",
       "Tan               1595\n",
       "Brown             1574\n",
       "Tricolor          1156\n",
       "Gray Tabby        1053\n",
       "Orange Tabby       858\n",
       "Brown Brindle      832\n",
       "Black Tabby        589\n",
       "Red                447\n",
       "Torbie             431\n",
       "Tortie             402\n",
       "Blue               401\n",
       "Calico             359\n",
       "Buff               241\n",
       "Fawn               222\n",
       "Black Brindle      207\n",
       "Orange             202\n",
       "Cream              188\n",
       "Dil Calico         156\n",
       "Chocolate          142\n",
       "Blue Brindle       129\n",
       "Yellow             124\n",
       "Sable              109\n",
       "Black Smoke         88\n",
       "Silver              85\n",
       "Seal Pt             84\n",
       "Green               71\n",
       "Lynx Pt             70\n",
       "Red Brindle         67\n",
       "Blue Merle          64\n",
       "Dil Tortie          59\n",
       "Brown Merle         49\n",
       "Gold                46\n",
       "Slvr Tabby          38\n",
       "Pink                33\n",
       "Flame Pt            31\n",
       "Crm Tabby           15\n",
       "Apricot             15\n",
       "Lilac Pt            12\n",
       "Choc Pt             11\n",
       "Red Merle            8\n",
       "Blue Tick            7\n",
       "Tortie Pt            7\n",
       "Red Tick             5\n",
       "Liver                5\n",
       "Gray Tiger           4\n",
       "Calico Pt            2\n",
       "Black Tiger          1\n",
       "Blue Pt              1\n",
       "Purple               1\n",
       "Silver Lynx Pt       1\n",
       "Blue Tabby           1\n",
       "Liver Tick           1\n",
       "Brown Tiger          1\n",
       "Name: color, dtype: int64"
      ]
     },
     "execution_count": 173,
     "metadata": {},
     "output_type": "execute_result"
    }
   ],
   "source": [
    "norfolkk.color.value_counts()"
   ]
  },
  {
   "cell_type": "code",
   "execution_count": 176,
   "metadata": {},
   "outputs": [
    {
     "data": {
      "text/plain": [
       "Neutered    10336\n",
       "Spayed       9487\n",
       "Male         3887\n",
       "Female       3239\n",
       "Unknown       928\n",
       "Name: sex, dtype: int64"
      ]
     },
     "execution_count": 176,
     "metadata": {},
     "output_type": "execute_result"
    }
   ],
   "source": [
    "norfolkk.sex.value_counts()"
   ]
  },
  {
   "cell_type": "code",
   "execution_count": 190,
   "metadata": {},
   "outputs": [
    {
     "data": {
      "text/plain": [
       "Stray                               12592\n",
       "Foster                               7291\n",
       "Owner Surrender                      4961\n",
       "Confiscate                           1314\n",
       "Transfer                              611\n",
       "Disposal Request of Deceased Pet      538\n",
       "Return                                309\n",
       "Euthanasia Request                    237\n",
       "Temporary                              24\n",
       "Name: intake_type, dtype: int64"
      ]
     },
     "execution_count": 190,
     "metadata": {},
     "output_type": "execute_result"
    }
   ],
   "source": [
    "norfolkk.intake_type.value_counts()"
   ]
  },
  {
   "cell_type": "code",
   "execution_count": 199,
   "metadata": {},
   "outputs": [
    {
     "data": {
      "text/plain": [
       "Adoption                      9963\n",
       "Foster                        7383\n",
       "Return to Owner               4526\n",
       "Euthanize                     3401\n",
       "Transfer                      1660\n",
       "Disposal                       610\n",
       "Died                           216\n",
       "Missing                         90\n",
       "Returned to Native Habitat      27\n",
       "Pending                          1\n",
       "Name: outcome_type, dtype: int64"
      ]
     },
     "execution_count": 199,
     "metadata": {},
     "output_type": "execute_result"
    }
   ],
   "source": [
    "norfolkk.outcome_type.value_counts()"
   ]
  },
  {
   "cell_type": "code",
   "execution_count": 198,
   "metadata": {},
   "outputs": [],
   "source": []
  },
  {
   "cell_type": "code",
   "execution_count": null,
   "metadata": {},
   "outputs": [],
   "source": []
  }
 ],
 "metadata": {
  "kernelspec": {
   "display_name": "etl_env",
   "language": "python",
   "name": "python3"
  },
  "language_info": {
   "codemirror_mode": {
    "name": "ipython",
    "version": 3
   },
   "file_extension": ".py",
   "mimetype": "text/x-python",
   "name": "python",
   "nbconvert_exporter": "python",
   "pygments_lexer": "ipython3",
   "version": "3.10.12"
  }
 },
 "nbformat": 4,
 "nbformat_minor": 2
}
