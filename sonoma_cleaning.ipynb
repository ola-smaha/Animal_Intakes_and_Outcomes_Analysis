{
 "cells": [
  {
   "cell_type": "code",
   "execution_count": 3,
   "metadata": {},
   "outputs": [],
   "source": [
    "from datetime import datetime\n",
    "from transformation_handler import readData\n",
    "import pandas as pd"
   ]
  },
  {
   "cell_type": "code",
   "execution_count": 4,
   "metadata": {},
   "outputs": [],
   "source": [
    "dfs = readData(limit=1000000)"
   ]
  },
  {
   "cell_type": "code",
   "execution_count": 5,
   "metadata": {},
   "outputs": [
    {
     "data": {
      "text/plain": [
       "dict_keys(['shelter_sonoma', 'shelter_austin_intakes', 'shelter_austin_outcomes', 'shelter_norfolk', 'shelter_bloomington', 'shelter_dallas_2017_2018', 'shelter_dallas_2018_2019', 'shelter_dallas_2019_2020', 'shelter_dallas_2020_2021', 'shelter_dallas_2021_2022', 'shelter_dallas_2022_2023', 'per_capita_sonoma_income', 'per_capita_austin_income', 'per_capita_norfolk_income', 'per_capita_bloomington_income', 'per_capita_dallas_income'])"
      ]
     },
     "execution_count": 5,
     "metadata": {},
     "output_type": "execute_result"
    }
   ],
   "source": [
    "dfs.keys()"
   ]
  },
  {
   "cell_type": "code",
   "execution_count": 6,
   "metadata": {},
   "outputs": [
    {
     "name": "stdout",
     "output_type": "stream",
     "text": [
      "DataFrame: shelter_sonoma\n",
      "<class 'pandas.core.frame.DataFrame'>\n",
      "RangeIndex: 26315 entries, 0 to 26314\n",
      "Data columns (total 10 columns):\n",
      " #   Column         Non-Null Count  Dtype \n",
      "---  ------         --------------  ----- \n",
      " 0   id             26315 non-null  object\n",
      " 1   type           26315 non-null  object\n",
      " 2   breed          26315 non-null  object\n",
      " 3   color          26315 non-null  object\n",
      " 4   sex            26315 non-null  object\n",
      " 5   date_of_birth  19827 non-null  object\n",
      " 6   intake_date    26315 non-null  object\n",
      " 7   outcome_date   26069 non-null  object\n",
      " 8   intake_type    26315 non-null  object\n",
      " 9   outcome_type   26064 non-null  object\n",
      "dtypes: object(10)\n",
      "memory usage: 2.0+ MB\n",
      "None\n",
      "DataFrame: shelter_austin_intakes\n",
      "<class 'pandas.core.frame.DataFrame'>\n",
      "RangeIndex: 156135 entries, 0 to 156134\n",
      "Data columns (total 6 columns):\n",
      " #   Column       Non-Null Count   Dtype \n",
      "---  ------       --------------   ----- \n",
      " 0   animal_id    156135 non-null  object\n",
      " 1   animal_type  156135 non-null  object\n",
      " 2   breed        156135 non-null  object\n",
      " 3   color        156135 non-null  object\n",
      " 4   datetime     156135 non-null  object\n",
      " 5   intake_type  156135 non-null  object\n",
      "dtypes: object(6)\n",
      "memory usage: 7.1+ MB\n",
      "None\n",
      "DataFrame: shelter_austin_outcomes\n",
      "<class 'pandas.core.frame.DataFrame'>\n",
      "RangeIndex: 156094 entries, 0 to 156093\n",
      "Data columns (total 5 columns):\n",
      " #   Column            Non-Null Count   Dtype \n",
      "---  ------            --------------   ----- \n",
      " 0   animal_id         156094 non-null  object\n",
      " 1   sex_upon_outcome  156094 non-null  object\n",
      " 2   date_of_birth     156094 non-null  object\n",
      " 3   datetime          156094 non-null  object\n",
      " 4   outcome_type      156064 non-null  object\n",
      "dtypes: object(5)\n",
      "memory usage: 6.0+ MB\n",
      "None\n",
      "DataFrame: shelter_norfolk\n",
      "<class 'pandas.core.frame.DataFrame'>\n",
      "RangeIndex: 27912 entries, 0 to 27911\n",
      "Data columns (total 11 columns):\n",
      " #   Column         Non-Null Count  Dtype \n",
      "---  ------         --------------  ----- \n",
      " 0   animal_id      27912 non-null  object\n",
      " 1   animal_type    27912 non-null  object\n",
      " 2   primary_breed  27912 non-null  object\n",
      " 3   primary_color  27912 non-null  object\n",
      " 4   sex            27912 non-null  object\n",
      " 5   years_old      14279 non-null  object\n",
      " 6   months_old     12271 non-null  object\n",
      " 7   intake_date    27912 non-null  object\n",
      " 8   outcome_date   27912 non-null  object\n",
      " 9   intake_type    27912 non-null  object\n",
      " 10  outcome_type   27911 non-null  object\n",
      "dtypes: object(11)\n",
      "memory usage: 2.3+ MB\n",
      "None\n",
      "DataFrame: shelter_bloomington\n",
      "<class 'pandas.core.frame.DataFrame'>\n",
      "RangeIndex: 30490 entries, 0 to 30489\n",
      "Data columns (total 10 columns):\n",
      " #   Column        Non-Null Count  Dtype \n",
      "---  ------        --------------  ----- \n",
      " 0   id            30490 non-null  object\n",
      " 1   speciesname   30490 non-null  object\n",
      " 2   breedname     30418 non-null  object\n",
      " 3   basecolour    30490 non-null  object\n",
      " 4   sexname       30490 non-null  object\n",
      " 5   animalage     30490 non-null  object\n",
      " 6   intakedate    30490 non-null  object\n",
      " 7   movementdate  26078 non-null  object\n",
      " 8   intakereason  30488 non-null  object\n",
      " 9   movementtype  30490 non-null  object\n",
      "dtypes: object(10)\n",
      "memory usage: 2.3+ MB\n",
      "None\n",
      "DataFrame: shelter_dallas_2017_2018\n",
      "<class 'pandas.core.frame.DataFrame'>\n",
      "RangeIndex: 37219 entries, 0 to 37218\n",
      "Data columns (total 9 columns):\n",
      " #   Column        Non-Null Count  Dtype \n",
      "---  ------        --------------  ----- \n",
      " 0   animal_id     37219 non-null  object\n",
      " 1   animal_type   37219 non-null  object\n",
      " 2   animal_breed  37219 non-null  object\n",
      " 3   intake_date   37219 non-null  object\n",
      " 4   intake_time   37219 non-null  object\n",
      " 5   outcome_date  37219 non-null  object\n",
      " 6   outcome_time  37219 non-null  object\n",
      " 7   intake_type   37219 non-null  object\n",
      " 8   outcome_type  37219 non-null  object\n",
      "dtypes: object(9)\n",
      "memory usage: 2.6+ MB\n",
      "None\n",
      "DataFrame: shelter_dallas_2018_2019\n",
      "<class 'pandas.core.frame.DataFrame'>\n",
      "RangeIndex: 46409 entries, 0 to 46408\n",
      "Data columns (total 9 columns):\n",
      " #   Column        Non-Null Count  Dtype \n",
      "---  ------        --------------  ----- \n",
      " 0   animal_id     46409 non-null  object\n",
      " 1   animal_type   46409 non-null  object\n",
      " 2   animal_breed  46409 non-null  object\n",
      " 3   intake_date   46409 non-null  object\n",
      " 4   intake_time   46409 non-null  object\n",
      " 5   outcome_date  46403 non-null  object\n",
      " 6   outcome_time  46409 non-null  object\n",
      " 7   intake_type   46409 non-null  object\n",
      " 8   outcome_type  46409 non-null  object\n",
      "dtypes: object(9)\n",
      "memory usage: 3.2+ MB\n",
      "None\n",
      "DataFrame: shelter_dallas_2019_2020\n",
      "<class 'pandas.core.frame.DataFrame'>\n",
      "RangeIndex: 31918 entries, 0 to 31917\n",
      "Data columns (total 9 columns):\n",
      " #   Column        Non-Null Count  Dtype \n",
      "---  ------        --------------  ----- \n",
      " 0   animal_id     31918 non-null  object\n",
      " 1   animal_type   31918 non-null  object\n",
      " 2   animal_breed  31918 non-null  object\n",
      " 3   intake_date   31918 non-null  object\n",
      " 4   intake_time   31918 non-null  object\n",
      " 5   outcome_date  31695 non-null  object\n",
      " 6   outcome_time  31918 non-null  object\n",
      " 7   intake_type   31918 non-null  object\n",
      " 8   outcome_type  31918 non-null  object\n",
      "dtypes: object(9)\n",
      "memory usage: 2.2+ MB\n",
      "None\n",
      "DataFrame: shelter_dallas_2020_2021\n",
      "<class 'pandas.core.frame.DataFrame'>\n",
      "RangeIndex: 23870 entries, 0 to 23869\n",
      "Data columns (total 9 columns):\n",
      " #   Column        Non-Null Count  Dtype \n",
      "---  ------        --------------  ----- \n",
      " 0   animal_id     23870 non-null  object\n",
      " 1   animal_type   23870 non-null  object\n",
      " 2   animal_breed  23862 non-null  object\n",
      " 3   intake_date   23870 non-null  object\n",
      " 4   intake_time   23870 non-null  object\n",
      " 5   outcome_date  23864 non-null  object\n",
      " 6   outcome_time  23870 non-null  object\n",
      " 7   intake_type   23870 non-null  object\n",
      " 8   outcome_type  23870 non-null  object\n",
      "dtypes: object(9)\n",
      "memory usage: 1.6+ MB\n",
      "None\n",
      "DataFrame: shelter_dallas_2021_2022\n",
      "<class 'pandas.core.frame.DataFrame'>\n",
      "RangeIndex: 28472 entries, 0 to 28471\n",
      "Data columns (total 9 columns):\n",
      " #   Column        Non-Null Count  Dtype \n",
      "---  ------        --------------  ----- \n",
      " 0   animal_id     28472 non-null  object\n",
      " 1   animal_type   28472 non-null  object\n",
      " 2   animal_breed  28427 non-null  object\n",
      " 3   intake_date   28472 non-null  object\n",
      " 4   intake_time   28472 non-null  object\n",
      " 5   outcome_date  28466 non-null  object\n",
      " 6   outcome_time  28472 non-null  object\n",
      " 7   intake_type   28472 non-null  object\n",
      " 8   outcome_type  28472 non-null  object\n",
      "dtypes: object(9)\n",
      "memory usage: 2.0+ MB\n",
      "None\n",
      "DataFrame: shelter_dallas_2022_2023\n",
      "<class 'pandas.core.frame.DataFrame'>\n",
      "RangeIndex: 34685 entries, 0 to 34684\n",
      "Data columns (total 9 columns):\n",
      " #   Column        Non-Null Count  Dtype \n",
      "---  ------        --------------  ----- \n",
      " 0   animal_id     34685 non-null  object\n",
      " 1   animal_type   34685 non-null  object\n",
      " 2   animal_breed  34644 non-null  object\n",
      " 3   intake_date   34685 non-null  object\n",
      " 4   intake_time   34685 non-null  object\n",
      " 5   outcome_date  34103 non-null  object\n",
      " 6   outcome_time  34685 non-null  object\n",
      " 7   intake_type   34685 non-null  object\n",
      " 8   outcome_type  34685 non-null  object\n",
      "dtypes: object(9)\n",
      "memory usage: 2.4+ MB\n",
      "None\n",
      "DataFrame: per_capita_sonoma_income\n",
      "<class 'pandas.core.frame.DataFrame'>\n",
      "RangeIndex: 53 entries, 0 to 52\n",
      "Data columns (total 2 columns):\n",
      " #   Column  Non-Null Count  Dtype \n",
      "---  ------  --------------  ----- \n",
      " 0   date    53 non-null     object\n",
      " 1   Sonoma  53 non-null     int64 \n",
      "dtypes: int64(1), object(1)\n",
      "memory usage: 976.0+ bytes\n",
      "None\n",
      "DataFrame: per_capita_austin_income\n",
      "<class 'pandas.core.frame.DataFrame'>\n",
      "RangeIndex: 53 entries, 0 to 52\n",
      "Data columns (total 2 columns):\n",
      " #   Column  Non-Null Count  Dtype \n",
      "---  ------  --------------  ----- \n",
      " 0   date    53 non-null     object\n",
      " 1   Austin  53 non-null     int64 \n",
      "dtypes: int64(1), object(1)\n",
      "memory usage: 976.0+ bytes\n",
      "None\n",
      "DataFrame: per_capita_norfolk_income\n",
      "<class 'pandas.core.frame.DataFrame'>\n",
      "RangeIndex: 53 entries, 0 to 52\n",
      "Data columns (total 2 columns):\n",
      " #   Column   Non-Null Count  Dtype \n",
      "---  ------   --------------  ----- \n",
      " 0   date     53 non-null     object\n",
      " 1   Norfolk  53 non-null     int64 \n",
      "dtypes: int64(1), object(1)\n",
      "memory usage: 976.0+ bytes\n",
      "None\n",
      "DataFrame: per_capita_bloomington_income\n",
      "<class 'pandas.core.frame.DataFrame'>\n",
      "RangeIndex: 53 entries, 0 to 52\n",
      "Data columns (total 2 columns):\n",
      " #   Column       Non-Null Count  Dtype \n",
      "---  ------       --------------  ----- \n",
      " 0   date         53 non-null     object\n",
      " 1   Bloomington  53 non-null     int64 \n",
      "dtypes: int64(1), object(1)\n",
      "memory usage: 976.0+ bytes\n",
      "None\n",
      "DataFrame: per_capita_dallas_income\n",
      "<class 'pandas.core.frame.DataFrame'>\n",
      "RangeIndex: 53 entries, 0 to 52\n",
      "Data columns (total 2 columns):\n",
      " #   Column  Non-Null Count  Dtype \n",
      "---  ------  --------------  ----- \n",
      " 0   date    53 non-null     object\n",
      " 1   Dallas  53 non-null     int64 \n",
      "dtypes: int64(1), object(1)\n",
      "memory usage: 976.0+ bytes\n",
      "None\n"
     ]
    }
   ],
   "source": [
    "for key, df in dfs.items():\n",
    "    print(f\"DataFrame: {key}\")\n",
    "    print(df.info())"
   ]
  },
  {
   "cell_type": "code",
   "execution_count": 7,
   "metadata": {},
   "outputs": [
    {
     "data": {
      "text/plain": [
       "Index(['id', 'type', 'breed', 'color', 'sex', 'date_of_birth', 'intake_date',\n",
       "       'outcome_date', 'intake_type', 'outcome_type'],\n",
       "      dtype='object')"
      ]
     },
     "execution_count": 7,
     "metadata": {},
     "output_type": "execute_result"
    }
   ],
   "source": [
    "sonoma = dfs['shelter_sonoma']\n",
    "sonoma.columns"
   ]
  },
  {
   "cell_type": "code",
   "execution_count": 8,
   "metadata": {},
   "outputs": [
    {
     "name": "stdout",
     "output_type": "stream",
     "text": [
      "<class 'pandas.core.frame.DataFrame'>\n",
      "RangeIndex: 26315 entries, 0 to 26314\n",
      "Data columns (total 10 columns):\n",
      " #   Column         Non-Null Count  Dtype \n",
      "---  ------         --------------  ----- \n",
      " 0   id             26315 non-null  object\n",
      " 1   type           26315 non-null  object\n",
      " 2   breed          26315 non-null  object\n",
      " 3   color          26315 non-null  object\n",
      " 4   sex            26315 non-null  object\n",
      " 5   date_of_birth  19827 non-null  object\n",
      " 6   intake_date    26315 non-null  object\n",
      " 7   outcome_date   26069 non-null  object\n",
      " 8   intake_type    26315 non-null  object\n",
      " 9   outcome_type   26064 non-null  object\n",
      "dtypes: object(10)\n",
      "memory usage: 2.0+ MB\n"
     ]
    }
   ],
   "source": [
    "sonoma.info()"
   ]
  },
  {
   "cell_type": "code",
   "execution_count": 27,
   "metadata": {},
   "outputs": [
    {
     "data": {
      "text/html": [
       "<div>\n",
       "<style scoped>\n",
       "    .dataframe tbody tr th:only-of-type {\n",
       "        vertical-align: middle;\n",
       "    }\n",
       "\n",
       "    .dataframe tbody tr th {\n",
       "        vertical-align: top;\n",
       "    }\n",
       "\n",
       "    .dataframe thead th {\n",
       "        text-align: right;\n",
       "    }\n",
       "</style>\n",
       "<table border=\"1\" class=\"dataframe\">\n",
       "  <thead>\n",
       "    <tr style=\"text-align: right;\">\n",
       "      <th></th>\n",
       "      <th>id</th>\n",
       "      <th>type</th>\n",
       "      <th>breed</th>\n",
       "      <th>color</th>\n",
       "      <th>sex</th>\n",
       "      <th>date_of_birth</th>\n",
       "      <th>intake_date</th>\n",
       "      <th>outcome_date</th>\n",
       "      <th>intake_type</th>\n",
       "      <th>outcome_type</th>\n",
       "      <th>days_in_shelter</th>\n",
       "      <th>region</th>\n",
       "    </tr>\n",
       "  </thead>\n",
       "  <tbody>\n",
       "    <tr>\n",
       "      <th>0</th>\n",
       "      <td>SO-A328255</td>\n",
       "      <td>Dog</td>\n",
       "      <td>Maltese/Poodle Toy</td>\n",
       "      <td>White</td>\n",
       "      <td>Spayed</td>\n",
       "      <td>2014-10-06</td>\n",
       "      <td>2023-07-05</td>\n",
       "      <td>2023-08-08</td>\n",
       "      <td>Stray</td>\n",
       "      <td>Adoption</td>\n",
       "      <td>34.0</td>\n",
       "      <td>Sonoma</td>\n",
       "    </tr>\n",
       "    <tr>\n",
       "      <th>1</th>\n",
       "      <td>SO-A420799</td>\n",
       "      <td>Cat</td>\n",
       "      <td>Domestic Sh</td>\n",
       "      <td>Black</td>\n",
       "      <td>Unknown</td>\n",
       "      <td>NaT</td>\n",
       "      <td>2023-09-30</td>\n",
       "      <td>2023-09-30</td>\n",
       "      <td>Stray</td>\n",
       "      <td>Transfer</td>\n",
       "      <td>0.0</td>\n",
       "      <td>Sonoma</td>\n",
       "    </tr>\n",
       "    <tr>\n",
       "      <th>2</th>\n",
       "      <td>SO-A420773</td>\n",
       "      <td>Cat</td>\n",
       "      <td>Domestic Lh</td>\n",
       "      <td>Black/White</td>\n",
       "      <td>Neutered</td>\n",
       "      <td>2013-09-29</td>\n",
       "      <td>2023-09-29</td>\n",
       "      <td>2023-09-30</td>\n",
       "      <td>Stray</td>\n",
       "      <td>Return To Owner</td>\n",
       "      <td>1.0</td>\n",
       "      <td>Sonoma</td>\n",
       "    </tr>\n",
       "    <tr>\n",
       "      <th>3</th>\n",
       "      <td>SO-A420810</td>\n",
       "      <td>Cat</td>\n",
       "      <td>Domestic Sh</td>\n",
       "      <td>Brown Tabby</td>\n",
       "      <td>Male</td>\n",
       "      <td>2023-08-15</td>\n",
       "      <td>2023-09-30</td>\n",
       "      <td>2023-09-30</td>\n",
       "      <td>Stray</td>\n",
       "      <td>Transfer</td>\n",
       "      <td>0.0</td>\n",
       "      <td>Sonoma</td>\n",
       "    </tr>\n",
       "    <tr>\n",
       "      <th>4</th>\n",
       "      <td>SO-A417889</td>\n",
       "      <td>Cat</td>\n",
       "      <td>Domestic Sh</td>\n",
       "      <td>Org Tabby/White</td>\n",
       "      <td>Spayed</td>\n",
       "      <td>2023-05-07</td>\n",
       "      <td>2023-05-30</td>\n",
       "      <td>2023-08-08</td>\n",
       "      <td>Stray</td>\n",
       "      <td>Adoption</td>\n",
       "      <td>70.0</td>\n",
       "      <td>Sonoma</td>\n",
       "    </tr>\n",
       "  </tbody>\n",
       "</table>\n",
       "</div>"
      ],
      "text/plain": [
       "           id type               breed            color       sex  \\\n",
       "0  SO-A328255  Dog  Maltese/Poodle Toy            White    Spayed   \n",
       "1  SO-A420799  Cat         Domestic Sh            Black   Unknown   \n",
       "2  SO-A420773  Cat         Domestic Lh      Black/White  Neutered   \n",
       "3  SO-A420810  Cat         Domestic Sh      Brown Tabby      Male   \n",
       "4  SO-A417889  Cat         Domestic Sh  Org Tabby/White    Spayed   \n",
       "\n",
       "  date_of_birth intake_date outcome_date intake_type     outcome_type  \\\n",
       "0    2014-10-06  2023-07-05   2023-08-08       Stray         Adoption   \n",
       "1           NaT  2023-09-30   2023-09-30       Stray         Transfer   \n",
       "2    2013-09-29  2023-09-29   2023-09-30       Stray  Return To Owner   \n",
       "3    2023-08-15  2023-09-30   2023-09-30       Stray         Transfer   \n",
       "4    2023-05-07  2023-05-30   2023-08-08       Stray         Adoption   \n",
       "\n",
       "   days_in_shelter  region  \n",
       "0             34.0  Sonoma  \n",
       "1              0.0  Sonoma  \n",
       "2              1.0  Sonoma  \n",
       "3              0.0  Sonoma  \n",
       "4             70.0  Sonoma  "
      ]
     },
     "execution_count": 27,
     "metadata": {},
     "output_type": "execute_result"
    }
   ],
   "source": [
    "sonomaa = sonoma.copy()\n",
    "sonomaa = sonomaa.drop_duplicates()\n",
    "date_columns = ['intake_date','date_of_birth','outcome_date']\n",
    "sonomaa[date_columns] = sonomaa[date_columns].apply(pd.to_datetime)\n",
    "# sonomaa[['date_of_birth','outcome_date']] = sonomaa[['date_of_birth','outcome_date']].apply(lambda x: x.fillna(pd.NaT))\n",
    "sonomaa.dropna(subset=['intake_date','intake_type'], inplace=True)\n",
    "sonomaa['outcome_type'] = sonomaa['outcome_type'].fillna('Pending')\n",
    "sonomaa['id'] = sonomaa['id'].apply(lambda x: f'SO-{x}')\n",
    "sonomaa['days_in_shelter'] = (sonomaa['outcome_date'] - sonomaa['intake_date']).dt.days\n",
    "# sonomaa['days_in_shelter'].fillna((datetime.now() - sonomaa['intake_date']).dt.days,inplace=True)\n",
    "# sonomaa['days_in_shelter'] = sonomaa['days_in_shelter'].astype(int)\n",
    "data_columns = ['type', 'breed', 'color', 'sex', 'intake_type', 'outcome_type']\n",
    "sonomaa[data_columns] = sonomaa[data_columns].apply(lambda x: x.str.title())\n",
    "sonomaa['region'] = 'Sonoma'\n",
    "sonomaa.loc[sonomaa['outcome_type'] == 'Rtos', 'outcome_type'] = 'Return To Owner'\n",
    "sonomaa['color'] = sonomaa['color'].replace({'Bl ': 'Black ', 'Brn ' : 'Brown '},regex=True)\n",
    "sonomaa.head()"
   ]
  },
  {
   "cell_type": "code",
   "execution_count": 25,
   "metadata": {},
   "outputs": [
    {
     "name": "stdout",
     "output_type": "stream",
     "text": [
      "<class 'pandas.core.frame.DataFrame'>\n",
      "Int64Index: 26313 entries, 0 to 26314\n",
      "Data columns (total 12 columns):\n",
      " #   Column           Non-Null Count  Dtype         \n",
      "---  ------           --------------  -----         \n",
      " 0   id               26313 non-null  object        \n",
      " 1   type             26313 non-null  object        \n",
      " 2   breed            26313 non-null  object        \n",
      " 3   color            26313 non-null  object        \n",
      " 4   sex              26313 non-null  object        \n",
      " 5   date_of_birth    19826 non-null  datetime64[ns]\n",
      " 6   intake_date      26313 non-null  datetime64[ns]\n",
      " 7   outcome_date     26067 non-null  datetime64[ns]\n",
      " 8   intake_type      26313 non-null  object        \n",
      " 9   outcome_type     26313 non-null  object        \n",
      " 10  days_in_shelter  26067 non-null  float64       \n",
      " 11  region           26313 non-null  object        \n",
      "dtypes: datetime64[ns](3), float64(1), object(8)\n",
      "memory usage: 2.6+ MB\n"
     ]
    }
   ],
   "source": [
    "sonomaa.info()"
   ]
  },
  {
   "cell_type": "code",
   "execution_count": 11,
   "metadata": {},
   "outputs": [
    {
     "data": {
      "text/plain": [
       "Stray              19207\n",
       "Owner Surrender     3234\n",
       "Confiscate          2100\n",
       "Quarantine           864\n",
       "Adoption Return      435\n",
       "Transfer             432\n",
       "Born Here             38\n",
       "Os Appt                3\n",
       "Name: intake_type, dtype: int64"
      ]
     },
     "execution_count": 11,
     "metadata": {},
     "output_type": "execute_result"
    }
   ],
   "source": [
    "sonomaa.intake_type.value_counts()"
   ]
  },
  {
   "cell_type": "code",
   "execution_count": 12,
   "metadata": {},
   "outputs": [
    {
     "data": {
      "text/plain": [
       "Return To Owner    8810\n",
       "Adoption           7686\n",
       "Transfer           5536\n",
       "Euthanize          3599\n",
       "Pending             251\n",
       "Disposal            237\n",
       "Died                177\n",
       "Escaped/Stolen       17\n",
       "Name: outcome_type, dtype: int64"
      ]
     },
     "execution_count": 12,
     "metadata": {},
     "output_type": "execute_result"
    }
   ],
   "source": [
    "sonomaa.outcome_type.value_counts()"
   ]
  },
  {
   "cell_type": "code",
   "execution_count": 13,
   "metadata": {},
   "outputs": [
    {
     "data": {
      "text/plain": [
       "Neutered    8606\n",
       "Spayed      7117\n",
       "Male        4506\n",
       "Female      3733\n",
       "Unknown     2351\n",
       "Name: sex, dtype: int64"
      ]
     },
     "execution_count": 13,
     "metadata": {},
     "output_type": "execute_result"
    }
   ],
   "source": [
    "sonomaa.sex.value_counts()"
   ]
  },
  {
   "cell_type": "code",
   "execution_count": 14,
   "metadata": {},
   "outputs": [
    {
     "data": {
      "text/plain": [
       "344"
      ]
     },
     "execution_count": 14,
     "metadata": {},
     "output_type": "execute_result"
    }
   ],
   "source": [
    "sonomaa.color.nunique()"
   ]
  },
  {
   "cell_type": "code",
   "execution_count": 15,
   "metadata": {},
   "outputs": [
    {
     "data": {
      "text/plain": [
       "1052"
      ]
     },
     "execution_count": 15,
     "metadata": {},
     "output_type": "execute_result"
    }
   ],
   "source": [
    "sonomaa.breed.nunique()"
   ]
  },
  {
   "cell_type": "code",
   "execution_count": 16,
   "metadata": {},
   "outputs": [
    {
     "data": {
      "text/plain": [
       "Dog      14701\n",
       "Cat       9408\n",
       "Other     2204\n",
       "Name: type, dtype: int64"
      ]
     },
     "execution_count": 16,
     "metadata": {},
     "output_type": "execute_result"
    }
   ],
   "source": [
    "sonomaa.type.value_counts()"
   ]
  },
  {
   "cell_type": "code",
   "execution_count": 17,
   "metadata": {},
   "outputs": [
    {
     "data": {
      "text/plain": [
       "Index(['id', 'type', 'breed', 'color', 'sex', 'date_of_birth', 'intake_date',\n",
       "       'outcome_date', 'intake_type', 'outcome_type', 'days_in_shelter',\n",
       "       'region'],\n",
       "      dtype='object')"
      ]
     },
     "execution_count": 17,
     "metadata": {},
     "output_type": "execute_result"
    }
   ],
   "source": [
    "sonomaa.columns"
   ]
  },
  {
   "cell_type": "code",
   "execution_count": 18,
   "metadata": {},
   "outputs": [
    {
     "data": {
      "text/plain": [
       "Stray              19207\n",
       "Owner Surrender     3234\n",
       "Confiscate          2100\n",
       "Quarantine           864\n",
       "Adoption Return      435\n",
       "Transfer             432\n",
       "Born Here             38\n",
       "Os Appt                3\n",
       "Name: intake_type, dtype: int64"
      ]
     },
     "execution_count": 18,
     "metadata": {},
     "output_type": "execute_result"
    }
   ],
   "source": [
    "sonomaa.intake_type.value_counts()"
   ]
  },
  {
   "cell_type": "code",
   "execution_count": 28,
   "metadata": {},
   "outputs": [
    {
     "data": {
      "text/plain": [
       "Black Brindle/Black       1\n",
       "Black/Brown Merle         1\n",
       "Buff/Tan                  1\n",
       "Apricot/White             1\n",
       "Seal Pt/Brown             1\n",
       "                       ... \n",
       "Black/Tan              1147\n",
       "White                  1405\n",
       "Brown Tabby            1413\n",
       "Black                  2513\n",
       "Black/White            2956\n",
       "Name: color, Length: 344, dtype: int64"
      ]
     },
     "execution_count": 28,
     "metadata": {},
     "output_type": "execute_result"
    }
   ],
   "source": [
    "sonomaa.color.value_counts(ascending=True)"
   ]
  },
  {
   "cell_type": "code",
   "execution_count": null,
   "metadata": {},
   "outputs": [],
   "source": []
  }
 ],
 "metadata": {
  "kernelspec": {
   "display_name": "etl_env",
   "language": "python",
   "name": "python3"
  },
  "language_info": {
   "codemirror_mode": {
    "name": "ipython",
    "version": 3
   },
   "file_extension": ".py",
   "mimetype": "text/x-python",
   "name": "python",
   "nbconvert_exporter": "python",
   "pygments_lexer": "ipython3",
   "version": "3.10.12"
  },
  "orig_nbformat": 4
 },
 "nbformat": 4,
 "nbformat_minor": 2
}
