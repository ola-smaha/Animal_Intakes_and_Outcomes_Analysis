{
 "cells": [
  {
   "cell_type": "code",
   "execution_count": 1,
   "metadata": {},
   "outputs": [],
   "source": [
    "from prehook import *\n",
    "from hook import *\n",
    "from posthook import *\n",
    "from lookups import *\n",
    "from database_handler import *\n",
    "import requests\n",
    "from transformation_handler import *"
   ]
  },
  {
   "cell_type": "code",
   "execution_count": 2,
   "metadata": {},
   "outputs": [
    {
     "name": "stdout",
     "output_type": "stream",
     "text": [
      "Connecting to database \"animal_intakes_outcomes\"...\n",
      "Connection was successful.\n",
      "Closing connection to database...\n",
      "Connection is closed.\n"
     ]
    }
   ],
   "source": [
    "execute_prehook()"
   ]
  },
  {
   "cell_type": "code",
   "execution_count": 2,
   "metadata": {},
   "outputs": [
    {
     "name": "stdout",
     "output_type": "stream",
     "text": [
      "Connecting to database \"animal_intakes_outcomes\"...\n",
      "Connection was successful.\n"
     ]
    },
    {
     "name": "stderr",
     "output_type": "stream",
     "text": [
      "c:\\Users\\olasm\\Desktop\\FSD - July 2023\\week 9\\FSD Final Project\\database_handler.py:50: UserWarning: pandas only supports SQLAlchemy connectable (engine/connection) or database string URI or sqlite3 DBAPI2 connection. Other DBAPI2 objects are not tested. Please consider using SQLAlchemy.\n",
      "  return_dataframe = pd.read_sql_query(con= db_session, sql= file_path)\n"
     ]
    },
    {
     "name": "stdout",
     "output_type": "stream",
     "text": [
      "Closing connection to database...\n",
      "Connection is closed.\n"
     ]
    }
   ],
   "source": [
    "execute_hook()"
   ]
  },
  {
   "cell_type": "code",
   "execution_count": 3,
   "metadata": {},
   "outputs": [
    {
     "name": "stdout",
     "output_type": "stream",
     "text": [
      "Connecting to database \"animal_intakes_outcomes\"...\n",
      "Connection was successful.\n",
      "Closing connection to database...\n",
      "Connection is closed.\n"
     ]
    }
   ],
   "source": [
    "execute_posthook()"
   ]
  },
  {
   "cell_type": "code",
   "execution_count": 4,
   "metadata": {},
   "outputs": [
    {
     "name": "stdout",
     "output_type": "stream",
     "text": [
      "Connecting to database \"animal_intakes_outcomes\"...\n",
      "Connection was successful.\n"
     ]
    }
   ],
   "source": [
    "db_session = create_connection()"
   ]
  }
 ],
 "metadata": {
  "kernelspec": {
   "display_name": "etl_env",
   "language": "python",
   "name": "python3"
  },
  "language_info": {
   "codemirror_mode": {
    "name": "ipython",
    "version": 3
   },
   "file_extension": ".py",
   "mimetype": "text/x-python",
   "name": "python",
   "nbconvert_exporter": "python",
   "pygments_lexer": "ipython3",
   "version": "3.10.12"
  }
 },
 "nbformat": 4,
 "nbformat_minor": 2
}
