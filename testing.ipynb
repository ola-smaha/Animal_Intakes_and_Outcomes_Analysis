{
 "cells": [
  {
   "cell_type": "code",
   "execution_count": 1,
   "metadata": {},
   "outputs": [],
   "source": [
    "from prehook import *\n",
    "from hook import *\n",
    "from lookups import *\n",
    "from database_handler import *\n",
    "import requests\n",
    "from transformation_handler import *"
   ]
  },
  {
   "cell_type": "code",
   "execution_count": 2,
   "metadata": {},
   "outputs": [
    {
     "name": "stdout",
     "output_type": "stream",
     "text": [
      "Connecting to database \"animal_intakes_outcomes\"...\n",
      "Connection was successful.\n",
      "Closing connection to database...\n",
      "Connection is closed.\n"
     ]
    }
   ],
   "source": [
    "execute_prehook()"
   ]
  },
  {
   "cell_type": "code",
   "execution_count": 3,
   "metadata": {},
   "outputs": [
    {
     "name": "stdout",
     "output_type": "stream",
     "text": [
      "Connecting to database \"animal_intakes_outcomes\"...\n",
      "Connection was successful.\n"
     ]
    },
    {
     "name": "stderr",
     "output_type": "stream",
     "text": [
      "c:\\Users\\olasm\\Desktop\\FSD - July 2023\\week 9\\FSD Final Project\\database_handler.py:50: UserWarning: pandas only supports SQLAlchemy connectable (engine/connection) or database string URI or sqlite3 DBAPI2 connection. Other DBAPI2 objects are not tested. Please consider using SQLAlchemy.\n",
      "  return_dataframe = pd.read_sql_query(con= db_session, sql= file_path)\n"
     ]
    },
    {
     "name": "stdout",
     "output_type": "stream",
     "text": [
      "Closing connection to database...\n",
      "Connection is closed.\n"
     ]
    }
   ],
   "source": [
    "execute_hook()"
   ]
  },
  {
   "cell_type": "code",
   "execution_count": 4,
   "metadata": {},
   "outputs": [
    {
     "name": "stdout",
     "output_type": "stream",
     "text": [
      "Connecting to database \"animal_intakes_outcomes\"...\n",
      "Connection was successful.\n"
     ]
    }
   ],
   "source": [
    "db_session = create_connection()"
   ]
  },
  {
   "cell_type": "code",
   "execution_count": 5,
   "metadata": {},
   "outputs": [
    {
     "name": "stderr",
     "output_type": "stream",
     "text": [
      "c:\\Users\\olasm\\Desktop\\FSD - July 2023\\week 9\\FSD Final Project\\database_handler.py:50: UserWarning: pandas only supports SQLAlchemy connectable (engine/connection) or database string URI or sqlite3 DBAPI2 connection. Other DBAPI2 objects are not tested. Please consider using SQLAlchemy.\n",
      "  return_dataframe = pd.read_sql_query(con= db_session, sql= file_path)\n"
     ]
    },
    {
     "data": {
      "text/plain": [
       "(140249, 11)"
      ]
     },
     "execution_count": 5,
     "metadata": {},
     "output_type": "execute_result"
    }
   ],
   "source": [
    "query = \"SELECT * FROM dw_reporting_schema.stg_intakes_outcomes_austin\"\n",
    "df = read_data_as_dataframe(InputTypes.SQL,query,db_session)\n",
    "austin = df.copy()\n",
    "austin.shape"
   ]
  },
  {
   "cell_type": "code",
   "execution_count": 53,
   "metadata": {},
   "outputs": [],
   "source": [
    "norfolk['date_of_birth'] = norfolk.groupby('animal_id')['date_of_birth'].transform('first')"
   ]
  },
  {
   "cell_type": "code",
   "execution_count": 11,
   "metadata": {},
   "outputs": [
    {
     "data": {
      "text/html": [
       "<div>\n",
       "<style scoped>\n",
       "    .dataframe tbody tr th:only-of-type {\n",
       "        vertical-align: middle;\n",
       "    }\n",
       "\n",
       "    .dataframe tbody tr th {\n",
       "        vertical-align: top;\n",
       "    }\n",
       "\n",
       "    .dataframe thead th {\n",
       "        text-align: right;\n",
       "    }\n",
       "</style>\n",
       "<table border=\"1\" class=\"dataframe\">\n",
       "  <thead>\n",
       "    <tr style=\"text-align: right;\">\n",
       "      <th></th>\n",
       "      <th>animal_id</th>\n",
       "      <th>type</th>\n",
       "      <th>breed</th>\n",
       "      <th>color</th>\n",
       "      <th>intake_date</th>\n",
       "      <th>intake_type</th>\n",
       "      <th>sex</th>\n",
       "      <th>date_of_birth</th>\n",
       "      <th>outcome_date</th>\n",
       "      <th>outcome_type</th>\n",
       "      <th>region</th>\n",
       "    </tr>\n",
       "  </thead>\n",
       "  <tbody>\n",
       "    <tr>\n",
       "      <th>287098</th>\n",
       "      <td>AUS-A006100</td>\n",
       "      <td>Dog</td>\n",
       "      <td>Spinone Italiano Mix</td>\n",
       "      <td>Yellow/White</td>\n",
       "      <td>2014-03-07 14:26:00</td>\n",
       "      <td>Public Assist</td>\n",
       "      <td>Neutered</td>\n",
       "      <td>2007-07-09</td>\n",
       "      <td>2014-03-08 17:10:00</td>\n",
       "      <td>Return to Owner</td>\n",
       "      <td>Austin</td>\n",
       "    </tr>\n",
       "    <tr>\n",
       "      <th>427335</th>\n",
       "      <td>AUS-A006100</td>\n",
       "      <td>Dog</td>\n",
       "      <td>Spinone Italiano Mix</td>\n",
       "      <td>Yellow/White</td>\n",
       "      <td>2014-03-07 14:26:00</td>\n",
       "      <td>Public Assist</td>\n",
       "      <td>Neutered</td>\n",
       "      <td>2007-07-09</td>\n",
       "      <td>2014-03-08 17:10:00</td>\n",
       "      <td>Return to Owner</td>\n",
       "      <td>Austin</td>\n",
       "    </tr>\n",
       "    <tr>\n",
       "      <th>146863</th>\n",
       "      <td>AUS-A006100</td>\n",
       "      <td>Dog</td>\n",
       "      <td>Spinone Italiano Mix</td>\n",
       "      <td>Yellow/White</td>\n",
       "      <td>2014-03-07 14:26:00</td>\n",
       "      <td>Public Assist</td>\n",
       "      <td>Neutered</td>\n",
       "      <td>2007-07-09</td>\n",
       "      <td>2014-03-08 17:10:00</td>\n",
       "      <td>Return to Owner</td>\n",
       "      <td>Austin</td>\n",
       "    </tr>\n",
       "    <tr>\n",
       "      <th>6680</th>\n",
       "      <td>AUS-A006100</td>\n",
       "      <td>Dog</td>\n",
       "      <td>Spinone Italiano Mix</td>\n",
       "      <td>Yellow/White</td>\n",
       "      <td>2014-03-07 14:26:00</td>\n",
       "      <td>Public Assist</td>\n",
       "      <td>Neutered</td>\n",
       "      <td>2007-07-09</td>\n",
       "      <td>2014-03-08 17:10:00</td>\n",
       "      <td>Return to Owner</td>\n",
       "      <td>Austin</td>\n",
       "    </tr>\n",
       "    <tr>\n",
       "      <th>288339</th>\n",
       "      <td>AUS-A047759</td>\n",
       "      <td>Dog</td>\n",
       "      <td>Dachshund</td>\n",
       "      <td>Tricolor</td>\n",
       "      <td>2014-04-02 15:55:00</td>\n",
       "      <td>Owner Surrender</td>\n",
       "      <td>Neutered</td>\n",
       "      <td>2004-04-02</td>\n",
       "      <td>2014-04-07 15:12:00</td>\n",
       "      <td>Transfer</td>\n",
       "      <td>Austin</td>\n",
       "    </tr>\n",
       "    <tr>\n",
       "      <th>...</th>\n",
       "      <td>...</td>\n",
       "      <td>...</td>\n",
       "      <td>...</td>\n",
       "      <td>...</td>\n",
       "      <td>...</td>\n",
       "      <td>...</td>\n",
       "      <td>...</td>\n",
       "      <td>...</td>\n",
       "      <td>...</td>\n",
       "      <td>...</td>\n",
       "      <td>...</td>\n",
       "    </tr>\n",
       "    <tr>\n",
       "      <th>560888</th>\n",
       "      <td>AUS-A891099</td>\n",
       "      <td>Cat</td>\n",
       "      <td>Domestic Shorthair</td>\n",
       "      <td>Black/Black</td>\n",
       "      <td>2023-10-17 13:27:00</td>\n",
       "      <td>Stray</td>\n",
       "      <td>nan</td>\n",
       "      <td>2262-04-11</td>\n",
       "      <td>2262-04-11 00:00:00</td>\n",
       "      <td>Pending</td>\n",
       "      <td>Austin</td>\n",
       "    </tr>\n",
       "    <tr>\n",
       "      <th>420653</th>\n",
       "      <td>AUS-A891099</td>\n",
       "      <td>Cat</td>\n",
       "      <td>Domestic Shorthair</td>\n",
       "      <td>Black/Black</td>\n",
       "      <td>2023-10-17 13:27:00</td>\n",
       "      <td>Stray</td>\n",
       "      <td>nan</td>\n",
       "      <td>2262-04-11</td>\n",
       "      <td>2262-04-11 00:00:00</td>\n",
       "      <td>Pending</td>\n",
       "      <td>Austin</td>\n",
       "    </tr>\n",
       "    <tr>\n",
       "      <th>280417</th>\n",
       "      <td>AUS-A891102</td>\n",
       "      <td>Cat</td>\n",
       "      <td>Domestic Shorthair</td>\n",
       "      <td>Black/Black</td>\n",
       "      <td>2023-10-17 13:27:00</td>\n",
       "      <td>Stray</td>\n",
       "      <td>nan</td>\n",
       "      <td>2262-04-11</td>\n",
       "      <td>2262-04-11 00:00:00</td>\n",
       "      <td>Pending</td>\n",
       "      <td>Austin</td>\n",
       "    </tr>\n",
       "    <tr>\n",
       "      <th>420652</th>\n",
       "      <td>AUS-A891102</td>\n",
       "      <td>Cat</td>\n",
       "      <td>Domestic Shorthair</td>\n",
       "      <td>Black/Black</td>\n",
       "      <td>2023-10-17 13:27:00</td>\n",
       "      <td>Stray</td>\n",
       "      <td>nan</td>\n",
       "      <td>2262-04-11</td>\n",
       "      <td>2262-04-11 00:00:00</td>\n",
       "      <td>Pending</td>\n",
       "      <td>Austin</td>\n",
       "    </tr>\n",
       "    <tr>\n",
       "      <th>560889</th>\n",
       "      <td>AUS-A891102</td>\n",
       "      <td>Cat</td>\n",
       "      <td>Domestic Shorthair</td>\n",
       "      <td>Black/Black</td>\n",
       "      <td>2023-10-17 13:27:00</td>\n",
       "      <td>Stray</td>\n",
       "      <td>nan</td>\n",
       "      <td>2262-04-11</td>\n",
       "      <td>2262-04-11 00:00:00</td>\n",
       "      <td>Pending</td>\n",
       "      <td>Austin</td>\n",
       "    </tr>\n",
       "  </tbody>\n",
       "</table>\n",
       "<p>560889 rows × 11 columns</p>\n",
       "</div>"
      ],
      "text/plain": [
       "          animal_id type                 breed         color  \\\n",
       "287098  AUS-A006100  Dog  Spinone Italiano Mix  Yellow/White   \n",
       "427335  AUS-A006100  Dog  Spinone Italiano Mix  Yellow/White   \n",
       "146863  AUS-A006100  Dog  Spinone Italiano Mix  Yellow/White   \n",
       "6680    AUS-A006100  Dog  Spinone Italiano Mix  Yellow/White   \n",
       "288339  AUS-A047759  Dog             Dachshund      Tricolor   \n",
       "...             ...  ...                   ...           ...   \n",
       "560888  AUS-A891099  Cat    Domestic Shorthair   Black/Black   \n",
       "420653  AUS-A891099  Cat    Domestic Shorthair   Black/Black   \n",
       "280417  AUS-A891102  Cat    Domestic Shorthair   Black/Black   \n",
       "420652  AUS-A891102  Cat    Domestic Shorthair   Black/Black   \n",
       "560889  AUS-A891102  Cat    Domestic Shorthair   Black/Black   \n",
       "\n",
       "               intake_date      intake_type       sex date_of_birth  \\\n",
       "287098 2014-03-07 14:26:00    Public Assist  Neutered    2007-07-09   \n",
       "427335 2014-03-07 14:26:00    Public Assist  Neutered    2007-07-09   \n",
       "146863 2014-03-07 14:26:00    Public Assist  Neutered    2007-07-09   \n",
       "6680   2014-03-07 14:26:00    Public Assist  Neutered    2007-07-09   \n",
       "288339 2014-04-02 15:55:00  Owner Surrender  Neutered    2004-04-02   \n",
       "...                    ...              ...       ...           ...   \n",
       "560888 2023-10-17 13:27:00            Stray       nan    2262-04-11   \n",
       "420653 2023-10-17 13:27:00            Stray       nan    2262-04-11   \n",
       "280417 2023-10-17 13:27:00            Stray       nan    2262-04-11   \n",
       "420652 2023-10-17 13:27:00            Stray       nan    2262-04-11   \n",
       "560889 2023-10-17 13:27:00            Stray       nan    2262-04-11   \n",
       "\n",
       "              outcome_date     outcome_type  region  \n",
       "287098 2014-03-08 17:10:00  Return to Owner  Austin  \n",
       "427335 2014-03-08 17:10:00  Return to Owner  Austin  \n",
       "146863 2014-03-08 17:10:00  Return to Owner  Austin  \n",
       "6680   2014-03-08 17:10:00  Return to Owner  Austin  \n",
       "288339 2014-04-07 15:12:00         Transfer  Austin  \n",
       "...                    ...              ...     ...  \n",
       "560888 2262-04-11 00:00:00          Pending  Austin  \n",
       "420653 2262-04-11 00:00:00          Pending  Austin  \n",
       "280417 2262-04-11 00:00:00          Pending  Austin  \n",
       "420652 2262-04-11 00:00:00          Pending  Austin  \n",
       "560889 2262-04-11 00:00:00          Pending  Austin  \n",
       "\n",
       "[560889 rows x 11 columns]"
      ]
     },
     "execution_count": 11,
     "metadata": {},
     "output_type": "execute_result"
    }
   ],
   "source": [
    "austin[austin.duplicated(subset='animal_id', keep=False)].sort_values('animal_id')"
   ]
  },
  {
   "cell_type": "code",
   "execution_count": 24,
   "metadata": {},
   "outputs": [],
   "source": [
    "duplicates = norfolk[norfolk.duplicated(subset='animal_id', keep=False)]\n",
    "unique_duplicates = duplicates.drop_duplicates(subset='animal_id', keep='first')[['animal_id', 'date_of_birth']]\n",
    "for index, row in unique_duplicates.iterrows():\n",
    "    norfolk.loc[norfolk['animal_id'] == row['animal_id'], 'date_of_birth'] = row['date_of_birth']"
   ]
  },
  {
   "cell_type": "code",
   "execution_count": 25,
   "metadata": {},
   "outputs": [
    {
     "name": "stderr",
     "output_type": "stream",
     "text": [
      "c:\\Users\\olasm\\Desktop\\FSD - July 2023\\week 9\\FSD Final Project\\database_handler.py:50: UserWarning: pandas only supports SQLAlchemy connectable (engine/connection) or database string URI or sqlite3 DBAPI2 connection. Other DBAPI2 objects are not tested. Please consider using SQLAlchemy.\n",
      "  return_dataframe = pd.read_sql_query(con= db_session, sql= file_path)\n"
     ]
    }
   ],
   "source": [
    "query = \"SELECT * FROM dw_reporting_schema.stg_intakes_outcomes_bloomington\"\n",
    "df = read_data_as_dataframe(InputTypes.SQL,query,db_session)\n",
    "bloomington = df.copy()"
   ]
  },
  {
   "cell_type": "code",
   "execution_count": 44,
   "metadata": {},
   "outputs": [],
   "source": [
    "bloomington[bloomington.duplicated(subset = 'id',keep='first')]\n",
    "bloomington.drop_duplicates(subset=['id','intake_date'],keep='first',inplace = True)"
   ]
  },
  {
   "cell_type": "code",
   "execution_count": 45,
   "metadata": {},
   "outputs": [
    {
     "data": {
      "text/plain": [
       "(17164, 11)"
      ]
     },
     "execution_count": 45,
     "metadata": {},
     "output_type": "execute_result"
    }
   ],
   "source": [
    "bloomington.shape"
   ]
  },
  {
   "cell_type": "code",
   "execution_count": 9,
   "metadata": {},
   "outputs": [
    {
     "name": "stdout",
     "output_type": "stream",
     "text": [
      "Closing connection to database...\n",
      "Connection is closed.\n"
     ]
    }
   ],
   "source": [
    "close_connection(db_session)"
   ]
  },
  {
   "cell_type": "code",
   "execution_count": 3,
   "metadata": {},
   "outputs": [],
   "source": [
    "import lookups\n",
    "import requests\n",
    "import transformation_handler\n",
    "import pandas as pd"
   ]
  },
  {
   "cell_type": "code",
   "execution_count": 4,
   "metadata": {},
   "outputs": [],
   "source": [
    "url = lookups.DataSources.SHELTER_NORFOLK.value\n",
    "response = requests.get(url,{'$limit':1000000})\n",
    "df = pd.DataFrame(response.json())"
   ]
  },
  {
   "cell_type": "code",
   "execution_count": 5,
   "metadata": {},
   "outputs": [],
   "source": [
    "dfs = {lookups.DataSources.SHELTER_NORFOLK.name.lower():df}"
   ]
  },
  {
   "cell_type": "code",
   "execution_count": 6,
   "metadata": {},
   "outputs": [],
   "source": [
    "df_cleaned = transformation_handler.clean_norfolk_dataset(dfs)"
   ]
  },
  {
   "cell_type": "code",
   "execution_count": null,
   "metadata": {},
   "outputs": [],
   "source": []
  }
 ],
 "metadata": {
  "kernelspec": {
   "display_name": "etl_env",
   "language": "python",
   "name": "python3"
  },
  "language_info": {
   "codemirror_mode": {
    "name": "ipython",
    "version": 3
   },
   "file_extension": ".py",
   "mimetype": "text/x-python",
   "name": "python",
   "nbconvert_exporter": "python",
   "pygments_lexer": "ipython3",
   "version": "3.10.12"
  }
 },
 "nbformat": 4,
 "nbformat_minor": 2
}
