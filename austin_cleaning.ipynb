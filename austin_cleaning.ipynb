{
 "cells": [
  {
   "cell_type": "code",
   "execution_count": 140,
   "metadata": {},
   "outputs": [],
   "source": [
    "from datetime import datetime\n",
    "from transformation_handler import readData\n",
    "import pandas as pd\n",
    "import numpy as np"
   ]
  },
  {
   "cell_type": "code",
   "execution_count": null,
   "metadata": {},
   "outputs": [],
   "source": [
    "dfs = readData(limit=1000000)\n",
    "dfs.keys()"
   ]
  },
  {
   "cell_type": "code",
   "execution_count": 155,
   "metadata": {},
   "outputs": [],
   "source": [
    "austin_in = dfs['shelter_austin_intakes']\n",
    "austin_out = dfs['shelter_austin_outcomes']\n",
    "austinn_in = austin_in.copy()\n",
    "austinn_out = austin_out.copy()"
   ]
  },
  {
   "cell_type": "code",
   "execution_count": 158,
   "metadata": {},
   "outputs": [],
   "source": [
    "austinn_in.rename(columns={'animal_type':'type','sex_upon_outcome':'sex','datetime':'intake_date'},inplace=True)\n",
    "austinn_out.rename(columns={'animal_type':'type','datetime':'outcome_date','sex_upon_outcome':'sex'},inplace=True)\n",
    "austinn_in.sort_values(by='intake_date', inplace=True)\n",
    "austinn_out.sort_values(by= 'outcome_date', inplace=True)\n",
    "austinn_in['intake_date'] = pd.to_datetime(austinn_in['intake_date'])\n",
    "date_columns = ['date_of_birth','outcome_date']\n",
    "for col in date_columns:\n",
    "    austinn_out[col] = pd.to_datetime(austinn_out[col])\n",
    "austinn_in.drop_duplicates(subset='animal_id', keep='first', inplace=True)\n",
    "austinn_out.drop_duplicates(subset='animal_id', keep='first', inplace=True)\n",
    "combined_df = pd.merge(austinn_in, austinn_out, on='animal_id', how = 'left')\n",
    "combined_df['outcome_type'] = combined_df['outcome_type'].fillna('Pending')\n",
    "combined_df['sex'].replace({'NULL': 'Unknown', 'Intact Male': 'Male', 'Intact Female': 'Female', 'Neutered Male': 'Neutered', 'Spayed Female': 'Spayed'}, inplace=True)\n",
    "combined_df['type'] = np.where(~combined_df['type'].isin(['Cat', 'Dog']), 'Other', combined_df['type'])\n",
    "combined_df['days_in_shelter'] = (combined_df['outcome_date'] - combined_df['intake_date']).dt.days\n",
    "combined_df['animal_id'] = combined_df['animal_id'].apply(lambda x: f'AUS-{x}')\n",
    "combined_df['region'] = 'Austin'\n",
    "combined_df.outcome_type.replace({'Relocate':'Transfer', 'Rto-Adopt': 'Return to Owner', 'Euthanasia':'Euthanize'},inplace=True)"
   ]
  },
  {
   "cell_type": "code",
   "execution_count": 159,
   "metadata": {},
   "outputs": [
    {
     "name": "stdout",
     "output_type": "stream",
     "text": [
      "<class 'pandas.core.frame.DataFrame'>\n",
      "Int64Index: 140033 entries, 0 to 140032\n",
      "Data columns (total 12 columns):\n",
      " #   Column           Non-Null Count   Dtype         \n",
      "---  ------           --------------   -----         \n",
      " 0   animal_id        140033 non-null  object        \n",
      " 1   type             140033 non-null  object        \n",
      " 2   breed            140033 non-null  object        \n",
      " 3   color            140033 non-null  object        \n",
      " 4   intake_date      140033 non-null  datetime64[ns]\n",
      " 5   intake_type      140033 non-null  object        \n",
      " 6   sex              139173 non-null  object        \n",
      " 7   date_of_birth    139173 non-null  datetime64[ns]\n",
      " 8   outcome_date     139173 non-null  datetime64[ns]\n",
      " 9   outcome_type     140033 non-null  object        \n",
      " 10  days_in_shelter  139173 non-null  float64       \n",
      " 11  region           140033 non-null  object        \n",
      "dtypes: datetime64[ns](3), float64(1), object(8)\n",
      "memory usage: 13.9+ MB\n"
     ]
    }
   ],
   "source": [
    "combined_df.info()"
   ]
  },
  {
   "cell_type": "code",
   "execution_count": 145,
   "metadata": {},
   "outputs": [
    {
     "data": {
      "text/plain": [
       "Dog      73172\n",
       "Cat      57880\n",
       "Other     8981\n",
       "Name: type, dtype: int64"
      ]
     },
     "execution_count": 145,
     "metadata": {},
     "output_type": "execute_result"
    }
   ],
   "source": [
    "combined_df.type.value_counts()"
   ]
  },
  {
   "cell_type": "code",
   "execution_count": 146,
   "metadata": {},
   "outputs": [
    {
     "data": {
      "text/plain": [
       "Domestic Shorthair Mix                                 31544\n",
       "Domestic Shorthair                                     16440\n",
       "Pit Bull Mix                                            7360\n",
       "Labrador Retriever Mix                                  6836\n",
       "Chihuahua Shorthair Mix                                 6013\n",
       "                                                       ...  \n",
       "Siberian Husky/Rottweiler                                  1\n",
       "American Eskimo/Alaskan Husky                              1\n",
       "American Pit Bull Terrier/American Pit Bull Terrier        1\n",
       "Great Pyrenees/Queensland Heeler                           1\n",
       "American Staffordshire Terrier/Rottweiler                  1\n",
       "Name: breed, Length: 2874, dtype: int64"
      ]
     },
     "execution_count": 146,
     "metadata": {},
     "output_type": "execute_result"
    }
   ],
   "source": [
    "combined_df.breed.value_counts()"
   ]
  },
  {
   "cell_type": "code",
   "execution_count": 147,
   "metadata": {},
   "outputs": [
    {
     "data": {
      "text/plain": [
       "Black Brindle/Gray               1\n",
       "Liver/Buff                       1\n",
       "Calico/Gray Tabby                1\n",
       "Orange Tabby/Tortie Point        1\n",
       "Silver Tabby/Black               1\n",
       "                             ...  \n",
       "White                         4857\n",
       "Brown                         6065\n",
       "Brown Tabby                   8877\n",
       "Black                        12112\n",
       "Black/White                  14338\n",
       "Name: color, Length: 633, dtype: int64"
      ]
     },
     "execution_count": 147,
     "metadata": {},
     "output_type": "execute_result"
    }
   ],
   "source": [
    "combined_df.color.value_counts(ascending=True)"
   ]
  },
  {
   "cell_type": "code",
   "execution_count": 148,
   "metadata": {},
   "outputs": [
    {
     "data": {
      "text/plain": [
       "Neutered    45910\n",
       "Spayed      42544\n",
       "Male        19390\n",
       "Female      19208\n",
       "Unknown     12121\n",
       "Name: sex, dtype: int64"
      ]
     },
     "execution_count": 148,
     "metadata": {},
     "output_type": "execute_result"
    }
   ],
   "source": [
    "combined_df.sex.value_counts()"
   ]
  },
  {
   "cell_type": "code",
   "execution_count": 149,
   "metadata": {},
   "outputs": [
    {
     "data": {
      "text/plain": [
       "Stray                 100984\n",
       "Owner Surrender        23863\n",
       "Public Assist           7747\n",
       "Wildlife                5951\n",
       "Abandoned               1245\n",
       "Euthanasia Request       243\n",
       "Name: intake_type, dtype: int64"
      ]
     },
     "execution_count": 149,
     "metadata": {},
     "output_type": "execute_result"
    }
   ],
   "source": [
    "combined_df.intake_type.value_counts()"
   ]
  },
  {
   "cell_type": "code",
   "execution_count": 160,
   "metadata": {},
   "outputs": [
    {
     "data": {
      "text/plain": [
       "Adoption           64679\n",
       "Transfer           42226\n",
       "Return to Owner    20438\n",
       "Euthanize           9559\n",
       "Died                1420\n",
       "Pending              885\n",
       "Disposal             747\n",
       "Missing               76\n",
       "Stolen                 3\n",
       "Name: outcome_type, dtype: int64"
      ]
     },
     "execution_count": 160,
     "metadata": {},
     "output_type": "execute_result"
    }
   ],
   "source": [
    "combined_df.outcome_type.value_counts()"
   ]
  }
 ],
 "metadata": {
  "kernelspec": {
   "display_name": "etl_env",
   "language": "python",
   "name": "python3"
  },
  "language_info": {
   "codemirror_mode": {
    "name": "ipython",
    "version": 3
   },
   "file_extension": ".py",
   "mimetype": "text/x-python",
   "name": "python",
   "nbconvert_exporter": "python",
   "pygments_lexer": "ipython3",
   "version": "3.10.12"
  }
 },
 "nbformat": 4,
 "nbformat_minor": 2
}
